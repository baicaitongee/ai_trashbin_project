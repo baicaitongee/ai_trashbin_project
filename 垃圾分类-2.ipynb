{
 "cells": [
  {
   "cell_type": "code",
   "execution_count": 39,
   "metadata": {
    "colab": {},
    "colab_type": "code",
    "id": "45-APndBA6p1"
   },
   "outputs": [],
   "source": [
    "# 需要进行建立模型\n",
    "import keras\n",
    "from keras.preprocessing.image import ImageDataGenerator\n",
    "# 隐藏层\n",
    "from keras.layers import Conv2D, Flatten, MaxPool2D, Dense,Dropout\n",
    "from keras.models import Sequential\n",
    "# 优化方法\n",
    "from keras.optimizers import Adam"
   ]
  },
  {
   "cell_type": "code",
   "execution_count": 40,
   "metadata": {},
   "outputs": [],
   "source": [
    "train_dir = 'images'\n",
    "num_epochs = 1\n",
    "batch_size = 100"
   ]
  },
  {
   "cell_type": "code",
   "execution_count": 41,
   "metadata": {},
   "outputs": [
    {
     "name": "stdout",
     "output_type": "stream",
     "text": [
      "Found 2276 images belonging to 7 classes.\n",
      "Found 251 images belonging to 7 classes.\n"
     ]
    }
   ],
   "source": [
    "# rescale 像素比例缩放  validation_split 验证集数据比例\n",
    "data_gen = ImageDataGenerator(rescale=1. / 255, validation_split=0.1)\n",
    "\n",
    "# train_dir  文件夹\n",
    "# target_size=(64, 64)  对象缩放比例\n",
    "# batch_size=batch_size 一次读入多少图片，一共读多少数据，决定与data_gen中的validation_split验证集切割\n",
    "# class_mode  固定字段，会根据给定路径下的文件夹做分类\n",
    "# subset   training validation  训练集  和验证集 \n",
    "train_generator = data_gen.flow_from_directory(train_dir,\n",
    "                                               target_size=(64, 64),\n",
    "                                               batch_size=batch_size,\n",
    "                                               class_mode='categorical', subset='training')\n",
    "validation_generator = data_gen.flow_from_directory(train_dir,\n",
    "                                               target_size=(64, 64),\n",
    "                                               batch_size=batch_size,\n",
    "                                               class_mode='categorical', subset='validation')"
   ]
  },
  {
   "cell_type": "code",
   "execution_count": 42,
   "metadata": {},
   "outputs": [
    {
     "data": {
      "text/plain": [
       "{'.ipynb_checkpoints': 0,\n",
       " 'cardboard': 1,\n",
       " 'glass': 2,\n",
       " 'metal': 3,\n",
       " 'paper': 4,\n",
       " 'plastic': 5,\n",
       " 'trashs': 6}"
      ]
     },
     "execution_count": 42,
     "metadata": {},
     "output_type": "execute_result"
    }
   ],
   "source": [
    "#获得原始数据\n",
    "# train_generator.__getitem__(1)\n",
    "#获得分类对应\n",
    "labels =train_generator.class_indices\n",
    "labels"
   ]
  },
  {
   "cell_type": "code",
   "execution_count": 43,
   "metadata": {},
   "outputs": [
    {
     "name": "stdout",
     "output_type": "stream",
     "text": [
      "_________________________________________________________________\n",
      "Layer (type)                 Output Shape              Param #   \n",
      "=================================================================\n",
      "conv2d_4 (Conv2D)            (None, 62, 62, 64)        1792      \n",
      "_________________________________________________________________\n",
      "max_pooling2d_4 (MaxPooling2 (None, 31, 31, 64)        0         \n",
      "_________________________________________________________________\n",
      "dropout_4 (Dropout)          (None, 31, 31, 64)        0         \n",
      "_________________________________________________________________\n",
      "flatten_4 (Flatten)          (None, 61504)             0         \n",
      "_________________________________________________________________\n",
      "dense_7 (Dense)              (None, 32)                1968160   \n",
      "_________________________________________________________________\n",
      "dense_8 (Dense)              (None, 7)                 231       \n",
      "=================================================================\n",
      "Total params: 1,970,183\n",
      "Trainable params: 1,970,183\n",
      "Non-trainable params: 0\n",
      "_________________________________________________________________\n"
     ]
    },
    {
     "name": "stderr",
     "output_type": "stream",
     "text": [
      "/home/baicaitong/.local/lib/python3.6/site-packages/ipykernel_launcher.py:4: UserWarning: Update your `Conv2D` call to the Keras 2 API: `Conv2D(64, (3, 3), input_shape=(64, 64, 3..., activation=\"relu\")`\n",
      "  after removing the cwd from sys.path.\n",
      "/home/baicaitong/.local/lib/python3.6/site-packages/ipykernel_launcher.py:9: UserWarning: Update your `Dense` call to the Keras 2 API: `Dense(activation=\"relu\", units=32)`\n",
      "  if __name__ == '__main__':\n",
      "/home/baicaitong/.local/lib/python3.6/site-packages/ipykernel_launcher.py:11: UserWarning: Update your `Dense` call to the Keras 2 API: `Dense(activation=\"sigmoid\", units=7)`\n",
      "  # This is added back by InteractiveShellApp.init_path()\n"
     ]
    }
   ],
   "source": [
    "# *******************************************************************\n",
    "model=Sequential()\n",
    "#输入层\n",
    "model.add(Conv2D(64,3,3,input_shape=(64, 64,3),activation='relu'))\n",
    "#隐藏层  计算\n",
    "model.add(MaxPool2D(pool_size=(2,2)))\n",
    "model.add(Dropout(0.25))\n",
    "model.add(Flatten())\n",
    "model.add(Dense(output_dim=32,activation='relu'))\n",
    "# +1~-1  宽度比较大\n",
    "model.add(Dense(output_dim=7,activation='sigmoid'))\n",
    "model.summary()"
   ]
  },
  {
   "cell_type": "code",
   "execution_count": 44,
   "metadata": {},
   "outputs": [],
   "source": [
    "#损失函数\n",
    "model.compile(loss='categorical_crossentropy', optimizer='adam', metrics=['acc'])\n",
    "# 试试看 3轮 准确率 88.75%\n",
    "# model.fit(X_train , y_train, batch_size= 15, epochs = 3)\n",
    "# *******************************************************************\n",
    "# steps_per_epoch  一次训练多少张\n",
    "# validation_steps  一次验证多少张\n",
    "# epochs  训练几轮\n",
    "#validation_data 验证数据是什么"
   ]
  },
  {
   "cell_type": "code",
   "execution_count": 34,
   "metadata": {},
   "outputs": [
    {
     "name": "stdout",
     "output_type": "stream",
     "text": [
      "Epoch 1/3\n",
      "5/5 [==============================] - 3s 674ms/step - loss: 2.1435 - acc: 0.2380 - val_loss: 1.7141 - val_acc: 0.1700\n",
      "Epoch 2/3\n",
      "5/5 [==============================] - 3s 629ms/step - loss: 1.7744 - acc: 0.2300 - val_loss: 1.7155 - val_acc: 0.2500\n",
      "Epoch 3/3\n",
      "5/5 [==============================] - 4s 752ms/step - loss: 1.7638 - acc: 0.2160 - val_loss: 1.6675 - val_acc: 0.3333\n"
     ]
    },
    {
     "data": {
      "text/plain": [
       "<keras.callbacks.History at 0x7fcb2701f0f0>"
      ]
     },
     "execution_count": 34,
     "metadata": {},
     "output_type": "execute_result"
    }
   ],
   "source": [
    "model.fit_generator(train_generator, \n",
    "                    steps_per_epoch= 5, #100\n",
    "                    validation_steps=1, #50\n",
    "                    epochs= 3, \n",
    "                    validation_data=validation_generator)\n",
    "\n",
    "#acc是准确度  loss是错误"
   ]
  },
  {
   "cell_type": "markdown",
   "metadata": {},
   "source": [
    "---"
   ]
  },
  {
   "cell_type": "code",
   "execution_count": 35,
   "metadata": {},
   "outputs": [],
   "source": [
    "model.save('my_model1.h5')"
   ]
  },
  {
   "cell_type": "code",
   "execution_count": 36,
   "metadata": {},
   "outputs": [],
   "source": [
    "# 加载模型\n",
    "from keras.models import load_model\n",
    "model = load_model('my_model1.h5')"
   ]
  },
  {
   "cell_type": "code",
   "execution_count": 45,
   "metadata": {
    "colab": {
     "base_uri": "https://localhost:8080/",
     "height": 954
    },
    "colab_type": "code",
    "id": "3rQJwNBZD3T2",
    "outputId": "e5fbf60c-53b2-4412-d7ef-bbb4c38834f7"
   },
   "outputs": [],
   "source": [
    "from PIL import Image\n",
    "import numpy as np\n",
    "image = Image.open(\"test.jpg\") # 用PIL中的Image.open打开图像\n",
    "img2=image.resize((64, 64),Image.ANTIALIAS)\n",
    "image_arr = np.array(img2) # 转化成numpy数组\n",
    "image_arr=image_arr/255\n",
    "image_arr.shape\n",
    "image_1=np.array([image_arr])\n",
    "\n",
    "# test_x, test_y = validation_generator.__getitem__(1)\n",
    "# labels = (train_generator.class_indices)\n",
    "# labels = dict((v,k) for k,v in labels.items())\n",
    "# preds = model.predict(test_x)\n",
    "# preds\n",
    "# plt.figure(figsize=(16, 16))\n",
    "# for i in range(16):\n",
    "#     plt.subplot(4, 4, i+1)\n",
    "#     plt.title('pred:%s / truth:%s' % (labels[np.argmax(preds[i])], labels[np.argmax(test_y[i])]))\n",
    "#     plt.imshow(test_x[i])\n",
    "\n",
    "#预测一张怎么预测\n",
    "#导入导出模型 深度学习h5 机器学习pkl\n"
   ]
  },
  {
   "cell_type": "code",
   "execution_count": 46,
   "metadata": {},
   "outputs": [
    {
     "data": {
      "text/plain": [
       "array([[0.5145442 , 0.5461345 , 0.5210257 , 0.33930483, 0.45196882,\n",
       "        0.57053345, 0.35542372]], dtype=float32)"
      ]
     },
     "execution_count": 46,
     "metadata": {},
     "output_type": "execute_result"
    }
   ],
   "source": [
    "preds = model.predict(image_1)\n",
    "preds"
   ]
  },
  {
   "cell_type": "code",
   "execution_count": null,
   "metadata": {},
   "outputs": [],
   "source": []
  }
 ],
 "metadata": {
  "accelerator": "TPU",
  "colab": {
   "name": "垃圾分类.ipynb",
   "provenance": [],
   "version": "0.3.2"
  },
  "kernelspec": {
   "display_name": "Python 3",
   "language": "python",
   "name": "python3"
  },
  "language_info": {
   "codemirror_mode": {
    "name": "ipython",
    "version": 3
   },
   "file_extension": ".py",
   "mimetype": "text/x-python",
   "name": "python",
   "nbconvert_exporter": "python",
   "pygments_lexer": "ipython3",
   "version": "3.6.8"
  }
 },
 "nbformat": 4,
 "nbformat_minor": 2
}
